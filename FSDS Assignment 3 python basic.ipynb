{
 "cells": [
  {
   "cell_type": "markdown",
   "id": "68d5eeb8",
   "metadata": {},
   "source": [
    "1. Why are functions advantageous to have in your programs?"
   ]
  },
  {
   "cell_type": "markdown",
   "id": "358e3ab4",
   "metadata": {},
   "source": [
    "        The Function Reduce the need for duplicate code, where we can use only the function name. This makes programs        shorter, easier to read and update"
   ]
  },
  {
   "cell_type": "markdown",
   "id": "e6826ec0",
   "metadata": {},
   "source": [
    "2. When does the code in a function run: when it's specified or when it's called?"
   ]
  },
  {
   "cell_type": "markdown",
   "id": "996c0025",
   "metadata": {},
   "source": [
    "        The Function is runned when it is called not when it is specified"
   ]
  },
  {
   "cell_type": "markdown",
   "id": "fb66801b",
   "metadata": {},
   "source": [
    "3. What statement creates a function?"
   ]
  },
  {
   "cell_type": "markdown",
   "id": "d3e9bc67",
   "metadata": {},
   "source": [
    "            The statement \"def\" will create a function\n",
    "            Eg: def function01:\n",
    "                #code goes here"
   ]
  },
  {
   "cell_type": "markdown",
   "id": "856817ff",
   "metadata": {},
   "source": [
    "4. What is the difference between a function and a function call?"
   ]
  },
  {
   "cell_type": "markdown",
   "id": "44a52723",
   "metadata": {},
   "source": [
    "        The function has a statement where the name of the function is defined and the necessary code is available \n",
    "        The Function call is when the name of the function is used and which will execute the function's code"
   ]
  },
  {
   "cell_type": "markdown",
   "id": "ed527069",
   "metadata": {},
   "source": [
    "5. How many global scopes are there in a Python program? How many local scopes?"
   ]
  },
  {
   "cell_type": "markdown",
   "id": "a8c254cb",
   "metadata": {},
   "source": [
    "        There can be only one global python scope per program execution. There can be at most 4 local scopes namely local,  enclosing, global, and built-in depending on where the code lies"
   ]
  },
  {
   "cell_type": "markdown",
   "id": "e69e8dbf",
   "metadata": {},
   "source": [
    "6. What happens to variables in a local scope when the function call returns?"
   ]
  },
  {
   "cell_type": "markdown",
   "id": "e7aca272",
   "metadata": {},
   "source": [
    "        The variables in the local scope will expire when the function is returned"
   ]
  },
  {
   "cell_type": "markdown",
   "id": "01faba9f",
   "metadata": {},
   "source": [
    "7. What is the concept of a return value? Is it possible to have a return value in an expression?"
   ]
  },
  {
   "cell_type": "markdown",
   "id": "688b6a12",
   "metadata": {},
   "source": [
    "        A return is a value that a function returns to the calling function when it completes a task. Yes, it is possible to have a return value in expression where it can be used as a part of an expression"
   ]
  },
  {
   "cell_type": "markdown",
   "id": "abd863fc",
   "metadata": {},
   "source": [
    "8. If a function does not have a return statement, what is the return value of a call to that function?"
   ]
  },
  {
   "cell_type": "markdown",
   "id": "2643d475",
   "metadata": {},
   "source": [
    "       If a function does not have a return statement, it  will return a special value called 'None' which is an instance of the 'NoneType' class"
   ]
  },
  {
   "cell_type": "markdown",
   "id": "678a01d3",
   "metadata": {},
   "source": [
    "9. How do you make a function variable refer to the global variable?"
   ]
  },
  {
   "cell_type": "markdown",
   "id": "884ebd3a",
   "metadata": {},
   "source": [
    "        The keyword 'global' is used to declare which variables are global"
   ]
  },
  {
   "cell_type": "markdown",
   "id": "a8f661e3",
   "metadata": {},
   "source": [
    "10. What is the data type of None?"
   ]
  },
  {
   "cell_type": "markdown",
   "id": "b7e63e22",
   "metadata": {},
   "source": [
    "        The data type of None is 'NoneType'"
   ]
  },
  {
   "cell_type": "markdown",
   "id": "7bc8f9fc",
   "metadata": {},
   "source": [
    "11. What does the sentence import areallyourpetsnamederic do?"
   ]
  },
  {
   "cell_type": "markdown",
   "id": "836b4286",
   "metadata": {},
   "source": [
    "    There is no module named \"areallyourpetsnamederic\" so it does not import any module"
   ]
  },
  {
   "cell_type": "markdown",
   "id": "545141eb",
   "metadata": {},
   "source": [
    "12. If you had a bacon() feature in a spam module, what would you call it after importing spam?"
   ]
  },
  {
   "cell_type": "markdown",
   "id": "c665aa44",
   "metadata": {},
   "source": [
    "        import spam\n",
    "        spam.beacon()"
   ]
  },
  {
   "cell_type": "markdown",
   "id": "cf5b4e77",
   "metadata": {},
   "source": [
    "13. What can you do to save a programme from crashing if it encounters an error?"
   ]
  },
  {
   "cell_type": "markdown",
   "id": "2706b5f3",
   "metadata": {},
   "source": [
    "        Exception handling will allow to handle errors that occur during execution of the program which will save the        program from crashing"
   ]
  },
  {
   "cell_type": "markdown",
   "id": "d4c9d0d8",
   "metadata": {},
   "source": [
    "14. What is the purpose of the try clause? What is the purpose of the except clause?"
   ]
  },
  {
   "cell_type": "markdown",
   "id": "4ef9a507",
   "metadata": {},
   "source": [
    "        The 'try' Clause is used in exception handling to specify a block of code that may raise an exception. The 'except' clauses used to specify a block of code that will be executed if an exception is raised in the try clause"
   ]
  },
  {
   "cell_type": "code",
   "execution_count": null,
   "id": "2f2a294b",
   "metadata": {},
   "outputs": [],
   "source": []
  }
 ],
 "metadata": {
  "kernelspec": {
   "display_name": "Python 3",
   "language": "python",
   "name": "python3"
  },
  "language_info": {
   "codemirror_mode": {
    "name": "ipython",
    "version": 3
   },
   "file_extension": ".py",
   "mimetype": "text/x-python",
   "name": "python",
   "nbconvert_exporter": "python",
   "pygments_lexer": "ipython3",
   "version": "3.8.8"
  }
 },
 "nbformat": 4,
 "nbformat_minor": 5
}
