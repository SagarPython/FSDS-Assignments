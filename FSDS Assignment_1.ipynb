{
 "cells": [
  {
   "cell_type": "code",
   "execution_count": null,
   "id": "1557cd04",
   "metadata": {},
   "outputs": [],
   "source": [
    "1. In the below elements which of them are values or an expression? eg:- values can be\n",
    "integer or string and expressions will be mathematical operators.\n",
    "\n",
    "* is an expression\n",
    "'hello'is a value\n",
    "-87.8 is a value\n",
    "- is an expression\n",
    "/ is an expression\n",
    "+ is an expression\n",
    "6 is a value"
   ]
  },
  {
   "cell_type": "code",
   "execution_count": null,
   "id": "59387630",
   "metadata": {},
   "outputs": [],
   "source": [
    "2. What is the difference between string and variable?\n",
    "\n",
    "String is a sequence of unicode characters where as variable is a reference to store values, string is a type of information that is used to store in a variable"
   ]
  },
  {
   "cell_type": "code",
   "execution_count": null,
   "id": "6dfe9010",
   "metadata": {},
   "outputs": [],
   "source": [
    "3. Describe three different data types.\n",
    "a. String - a string is a combination of characters denoted by \"\"\n",
    "b. Integer - It consists of all whole numbers along with negative numbers\n",
    "c. Boolean - used to denote True or false where True is 1 and False is 0"
   ]
  },
  {
   "cell_type": "code",
   "execution_count": null,
   "id": "378b316b",
   "metadata": {},
   "outputs": [],
   "source": [
    "4. What is an expression made up of? What do all expressions do?\n",
    "\n",
    "An expression is made up of variables, operators and method invocations, Expressions combines operators and operands that produces another value"
   ]
  },
  {
   "cell_type": "code",
   "execution_count": null,
   "id": "464f0132",
   "metadata": {},
   "outputs": [],
   "source": [
    "5. This assignment statements, like spam = 10. What is the difference between an\n",
    "expression and a statement?\n",
    "\n",
    "An Expression always evaluates to a value that gives an output whereas statement does something, like creating a variable or displaying a value, it only does whatever the statement says that does not necessarly give an output."
   ]
  },
  {
   "cell_type": "code",
   "execution_count": null,
   "id": "6a942755",
   "metadata": {},
   "outputs": [],
   "source": [
    "6. After running the following code, what does the variable bacon contain?\n",
    "bacon = 22\n",
    "bacon + 1\n",
    "\n",
    "Output:\n",
    "\n",
    "bacon = 23"
   ]
  },
  {
   "cell_type": "code",
   "execution_count": null,
   "id": "5674f6c1",
   "metadata": {},
   "outputs": [],
   "source": [
    "7. What should the values of the following two terms be?\n",
    "\n",
    "'spam' + \"spamspam\" = spamspamspam\n",
    "'spam'*3 = spamspamspam"
   ]
  },
  {
   "cell_type": "code",
   "execution_count": null,
   "id": "aba5920e",
   "metadata": {},
   "outputs": [],
   "source": [
    "8. Why is eggs a valid variable name while 100 is invalid?\n",
    "\n",
    "100 is a invalid name because 100 is an integer it already has its data type whereas eggs is a variable and it can be stored"
   ]
  },
  {
   "cell_type": "code",
   "execution_count": null,
   "id": "69d8c4d7",
   "metadata": {},
   "outputs": [],
   "source": [
    "9. What three functions can be used to get the integer, floating-point number, or string version of a value?\n",
    "\n",
    "integer - int()\n",
    "floating point number - float()\n",
    "string - str()"
   ]
  },
  {
   "cell_type": "code",
   "execution_count": null,
   "id": "62328d29",
   "metadata": {},
   "outputs": [],
   "source": [
    "10. Why does this expression cause an error? How can you fix it?\n",
    "\n",
    "It is not possible to concatinate string with an integer to fix we need to convert integer to string\n",
    "\n",
    "Eg: \n",
    "\n",
    "'I have eaten'+'99'+'burritos'"
   ]
  }
 ],
 "metadata": {
  "kernelspec": {
   "display_name": "Python 3",
   "language": "python",
   "name": "python3"
  },
  "language_info": {
   "codemirror_mode": {
    "name": "ipython",
    "version": 3
   },
   "file_extension": ".py",
   "mimetype": "text/x-python",
   "name": "python",
   "nbconvert_exporter": "python",
   "pygments_lexer": "ipython3",
   "version": "3.8.8"
  }
 },
 "nbformat": 4,
 "nbformat_minor": 5
}
